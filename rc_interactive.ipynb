{
 "cells": [
  {
   "cell_type": "code",
   "execution_count": 40,
   "metadata": {},
   "outputs": [
    {
     "data": {
      "text/html": [
       "<script>\n",
       "code_show=true; \n",
       "function code_toggle() {\n",
       " if (code_show){\n",
       " $('div.input').hide();\n",
       " } else {\n",
       " $('div.input').show();\n",
       " }\n",
       " code_show = !code_show\n",
       "} \n",
       "$( document ).ready(code_toggle);\n",
       "</script>\n",
       "<form action=\"javascript:code_toggle()\"><input type=\"submit\" value=\"Toggle Input\"></form>"
      ],
      "text/plain": [
       "<IPython.core.display.HTML object>"
      ]
     },
     "execution_count": 40,
     "metadata": {},
     "output_type": "execute_result"
    }
   ],
   "source": [
    "from IPython.display import HTML\n",
    "HTML('''<script>\n",
    "code_show=true; \n",
    "function code_toggle() {\n",
    " if (code_show){\n",
    " $('div.input').hide();\n",
    " } else {\n",
    " $('div.input').show();\n",
    " }\n",
    " code_show = !code_show\n",
    "} \n",
    "$( document ).ready(code_toggle);\n",
    "</script>\n",
    "<form action=\"javascript:code_toggle()\"><input type=\"submit\" value=\"Toggle Input\"></form>''')"
   ]
  },
  {
   "cell_type": "code",
   "execution_count": 30,
   "metadata": {},
   "outputs": [],
   "source": [
    "import pandas as pd\n",
    "import numpy as np\n",
    "import matplotlib.pyplot as plt\n",
    "import os\n",
    "from ipywidgets import widgets\n",
    "from IPython.display import display\n",
    "\n",
    "import plotly.graph_objects as go\n"
   ]
  },
  {
   "cell_type": "code",
   "execution_count": 23,
   "metadata": {},
   "outputs": [],
   "source": [
    "DPATH_RC_COEFS = '../../data_out/all_rc_coefs.csv'"
   ]
  },
  {
   "cell_type": "code",
   "execution_count": 71,
   "metadata": {},
   "outputs": [],
   "source": [
    "rc_df = pd.read_csv(DPATH_RC_COEFS)\n",
    "products = ['office', 'windows server']\n",
    "label_dict = {product: all_rc_coefs.query(f'product == \"{product}\"').label for product in rc_df['product'].unique()}"
   ]
  },
  {
   "cell_type": "code",
   "execution_count": 70,
   "metadata": {},
   "outputs": [
    {
     "data": {
      "application/vnd.jupyter.widget-view+json": {
       "model_id": "17b9bd007cf44802b4b63fba25886705",
       "version_major": 2,
       "version_minor": 0
      },
      "text/plain": [
       "interactive(children=(Select(description='product', options=('windows server', 'office'), value='windows serve…"
      ]
     },
     "metadata": {},
     "output_type": "display_data"
    },
    {
     "data": {
      "application/vnd.jupyter.widget-view+json": {
       "model_id": "54aeb8d77b584a67a0ae789e26bd0e1a",
       "version_major": 2,
       "version_minor": 0
      },
      "text/plain": [
       "interactive(children=(SelectMultiple(description='curves', options=('IRS', 'IRS/Kemerer lines', 'TC full-ship …"
      ]
     },
     "metadata": {},
     "output_type": "display_data"
    }
   ],
   "source": [
    "def plot_curves(curves):\n",
    "    \n",
    "    res_df = rc_df[rc_df.label.isin(curves)]\n",
    "    res_df = res_df[res_df['product'] == productW.value]\n",
    "    \n",
    "    display(res_df)\n",
    "\n",
    "    ncurves = len(res_df)\n",
    "    \n",
    "    fig = go.Figure()\n",
    "\n",
    "    if(ncurves):\n",
    "        for nrow in np.arange(ncurves):\n",
    "            row = res_df.iloc[nrow, :]\n",
    "\n",
    "            a, b = row[['a', 'b']]\n",
    "\n",
    "            xrange = np.linspace(0, 10, 1000)\n",
    "\n",
    "            yrange = a*np.exp(b*xrange)\n",
    "            fig.add_trace(go.Scatter(x=xrange, y=yrange,\n",
    "                    mode='lines',\n",
    "                    name=row.label))\n",
    "            \n",
    "    # chart formatting\n",
    "    fig.update_layout(\n",
    "        title=go.layout.Title(\n",
    "            text=productW.value.title()+\" RC Curves\",\n",
    "            xref=\"paper\",\n",
    "            x=0\n",
    "        ),\n",
    "        xaxis=go.layout.XAxis(\n",
    "            \n",
    "            tickmode = 'linear',\n",
    "            tick0 = 0,\n",
    "            dtick = 1,\n",
    "            title=go.layout.xaxis.Title(\n",
    "                text=\"Years\",\n",
    "                font=dict(\n",
    "                    family=\"Courier New, monospace\",\n",
    "                    size=18,\n",
    "                    color=\"#7f7f7f\"\n",
    "                )\n",
    "            )\n",
    "        ),\n",
    "        yaxis=go.layout.YAxis(\n",
    "            tickmode = 'linear',\n",
    "            tick0 = 0,\n",
    "            dtick = .1,\n",
    "            tickformat = ',.0%',\n",
    "            range = [0,1],\n",
    "            title=go.layout.yaxis.Title(\n",
    "                text=\"RC\",\n",
    "                font=dict(\n",
    "                    family=\"Courier New, monospace\",\n",
    "                    size=18,\n",
    "                    color=\"#7f7f7f\"\n",
    "                )\n",
    "            )\n",
    "            \n",
    "        )\n",
    "    )\n",
    "\n",
    "    fig.show()\n",
    "\n",
    "def select_product(product):\n",
    "    curveW.options = label_dict[product]\n",
    "    curveW.rows = len(curveW.options)\n",
    "\n",
    "productW = widgets.Select(options=label_dict.keys())\n",
    "curveW = widgets.SelectMultiple(options=label_dict[productW.value])\n",
    "\n",
    "display(widgets.interactive(select_product, product=productW))\n",
    "display(widgets.interactive(plot_curves, curves=curveW))\n"
   ]
  }
 ],
 "metadata": {
  "kernelspec": {
   "display_name": "Python (msft_tech)",
   "language": "python",
   "name": "msft_tech"
  },
  "language_info": {
   "codemirror_mode": {
    "name": "ipython",
    "version": 3
   },
   "file_extension": ".py",
   "mimetype": "text/x-python",
   "name": "python",
   "nbconvert_exporter": "python",
   "pygments_lexer": "ipython3",
   "version": "3.7.3"
  }
 },
 "nbformat": 4,
 "nbformat_minor": 2
}
